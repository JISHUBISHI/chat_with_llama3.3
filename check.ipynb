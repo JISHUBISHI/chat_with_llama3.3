{
 "cells": [
  {
   "cell_type": "code",
   "execution_count": 29,
   "metadata": {},
   "outputs": [],
   "source": [
    "from langchain_groq import ChatGroq\n",
    "import os\n",
    "from dotenv import load_dotenv"
   ]
  },
  {
   "cell_type": "code",
   "execution_count": 30,
   "metadata": {},
   "outputs": [
    {
     "data": {
      "text/plain": [
       "True"
      ]
     },
     "execution_count": 30,
     "metadata": {},
     "output_type": "execute_result"
    }
   ],
   "source": [
    "load_dotenv()"
   ]
  },
  {
   "cell_type": "code",
   "execution_count": 34,
   "metadata": {},
   "outputs": [],
   "source": [
    "llm = ChatGroq(groq_api_key = os.getenv('GROQ_API_KEY'),model_name = \"llama-3.3-70b-versatile\")"
   ]
  },
  {
   "cell_type": "code",
   "execution_count": 35,
   "metadata": {},
   "outputs": [],
   "source": [
    "def generate_response_llm(text):\n",
    "    questions = text.lower()\n",
    "    response = llm.invoke(questions)\n",
    "    return response"
   ]
  },
  {
   "cell_type": "code",
   "execution_count": 36,
   "metadata": {},
   "outputs": [],
   "source": [
    "result = generate_response_llm(\"what is machine learning?\")"
   ]
  },
  {
   "cell_type": "code",
   "execution_count": 37,
   "metadata": {},
   "outputs": [
    {
     "data": {
      "text/plain": [
       "\"**Machine Learning Overview**\\n==========================\\n\\nMachine learning (ML) is a subset of artificial intelligence (AI) that involves the development of algorithms and statistical models that enable machines to learn from data, make decisions, and improve their performance over time.\\n\\n**Key Characteristics:**\\n\\n1. **Data-Driven**: Machine learning relies on large datasets to learn patterns, relationships, and trends.\\n2. **Automated**: ML algorithms can automatically improve their performance on a task without being explicitly programmed.\\n3. **Adaptive**: ML models can adapt to new data, environments, and conditions.\\n4. **Self-Improving**: ML algorithms can refine their performance through experience and learning.\\n\\n**Types of Machine Learning:**\\n\\n1. **Supervised Learning**: The model learns from labeled data to predict outcomes.\\n2. **Unsupervised Learning**: The model discovers patterns and relationships in unlabeled data.\\n3. **Reinforcement Learning**: The model learns through trial and error by interacting with an environment.\\n4. **Semi-Supervised Learning**: The model learns from a combination of labeled and unlabeled data.\\n\\n**Machine Learning Applications:**\\n\\n1. **Image Recognition**: Object detection, facial recognition, and image classification.\\n2. **Natural Language Processing**: Text classification, sentiment analysis, and language translation.\\n3. **Predictive Analytics**: Forecasting, recommendation systems, and risk analysis.\\n4. **Robotics and Autonomous Systems**: Control, navigation, and decision-making.\\n\\n**Real-World Examples:**\\n\\n1. **Virtual Assistants**: Siri, Alexa, and Google Assistant use ML for speech recognition and natural language processing.\\n2. **Image Recognition**: Facebook's facial recognition and Google's image search use ML for image classification.\\n3. **Recommendation Systems**: Netflix and Amazon use ML to suggest movies and products based on user behavior.\\n\\n**Machine Learning Benefits:**\\n\\n1. **Improved Accuracy**: ML models can outperform traditional rule-based systems.\\n2. **Increased Efficiency**: ML can automate tasks, reducing manual labor and improving productivity.\\n3. **Enhanced Decision-Making**: ML can provide insights and predictions, enabling better decision-making.\\n\\n**Challenges and Limitations:**\\n\\n1. **Data Quality**: ML models are only as good as the data they're trained on.\\n2. **Bias and Fairness**: ML models can perpetuate biases and discriminate against certain groups.\\n3. **Explainability**: ML models can be difficult to interpret and understand.\\n\\nIn summary, machine learning is a powerful tool for building intelligent systems that can learn from data, make decisions, and improve their performance over time. Its applications are diverse, and its benefits are numerous, but it also presents challenges and limitations that must be addressed.\""
      ]
     },
     "execution_count": 37,
     "metadata": {},
     "output_type": "execute_result"
    }
   ],
   "source": [
    "result.content"
   ]
  },
  {
   "cell_type": "code",
   "execution_count": null,
   "metadata": {},
   "outputs": [],
   "source": []
  }
 ],
 "metadata": {
  "kernelspec": {
   "display_name": "Python 3",
   "language": "python",
   "name": "python3"
  },
  "language_info": {
   "codemirror_mode": {
    "name": "ipython",
    "version": 3
   },
   "file_extension": ".py",
   "mimetype": "text/x-python",
   "name": "python",
   "nbconvert_exporter": "python",
   "pygments_lexer": "ipython3",
   "version": "3.10.0"
  }
 },
 "nbformat": 4,
 "nbformat_minor": 2
}
